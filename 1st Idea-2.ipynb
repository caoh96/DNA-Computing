{
 "cells": [
  {
   "cell_type": "code",
   "execution_count": null,
   "metadata": {},
   "outputs": [],
   "source": []
  },
  {
   "cell_type": "code",
   "execution_count": 20,
   "metadata": {},
   "outputs": [],
   "source": [
    "import re\n",
    "import os\n",
    "from bitstring import BitArray\n",
    "import struct\n",
    "import string\n",
    "from random import choice\n",
    "import time\n",
    "import matplotlib.pyplot as plt\n",
    "import seaborn as sns"
   ]
  },
  {
   "cell_type": "markdown",
   "metadata": {},
   "source": [
    "# Convert Binary string to DNA strand"
   ]
  },
  {
   "cell_type": "code",
   "execution_count": 13,
   "metadata": {},
   "outputs": [],
   "source": [
    "# function to remove whitespaces in the string:\n",
    "def Spaceremoval(input_string):\n",
    "    return input_string.translate({ord(c): None for c in string.whitespace})"
   ]
  },
  {
   "cell_type": "code",
   "execution_count": 14,
   "metadata": {},
   "outputs": [],
   "source": [
    "# Function to check whether two binary string is equal:\n",
    "def Matching(input1,input2):\n",
    "    if input1 == input2:\n",
    "        print ('They are matched!')\n",
    "    else:\n",
    "        print ('Opps!')\n",
    "        "
   ]
  },
  {
   "cell_type": "code",
   "execution_count": 15,
   "metadata": {},
   "outputs": [],
   "source": [
    "# Function to convert string to binary:\n",
    "def StringtoBinary(input_string):\n",
    "    return ''.join(format(ord(x), 'b') for x in input_string)"
   ]
  },
  {
   "cell_type": "code",
   "execution_count": 16,
   "metadata": {},
   "outputs": [],
   "source": [
    "# Function to convert audio file into binary \n",
    "def AudiotoBinary(file_path):\n",
    "    b=BitArray(bytes=open(file_path,'rb').read())\n",
    "    # Store result\n",
    "    with open('filename_bits.txt', 'w') as file1: \n",
    "        return b.bin\n"
   ]
  },
  {
   "cell_type": "code",
   "execution_count": 17,
   "metadata": {},
   "outputs": [],
   "source": [
    "# Function to compress file using Huffman coding\n"
   ]
  },
  {
   "cell_type": "code",
   "execution_count": 7,
   "metadata": {},
   "outputs": [],
   "source": [
    "# Function to encode Binary to DNA strands\n",
    "def BinarytoDNA(input_string):\n",
    "    i=0\n",
    "    DNA = []\n",
    "    while i in range(len(input_string)):\n",
    "        if (len(input_string) - i > 2):\n",
    "            if(input_string[i]== '1') and (input_string[i] == input_string[i+1]) and (input_string[i+1] == input_string[i+2]):\n",
    "                DNA.append('CG')\n",
    "                i += 3\n",
    "            elif (input_string[i]== '1') and (input_string[i] == input_string[i+1]):\n",
    "                DNA.append('CA')\n",
    "                i += 2\n",
    "            elif (input_string[i]== '1') and (input_string[i] != input_string[i+1]):\n",
    "                DNA.append('CT')\n",
    "                i+= 1\n",
    "            elif((input_string[i] == input_string[i+1]) and (input_string[i+1] == input_string[i+2])):\n",
    "                DNA.append('G')\n",
    "                i += 3\n",
    "            elif (input_string[i] == input_string[i+1]):\n",
    "                DNA.append('A')\n",
    "                i += 2\n",
    "            else:\n",
    "                DNA.append('T')\n",
    "                i+= 1\n",
    "        elif (len(input_string) - i -1 == 2):\n",
    "            if(input_string[i]== '1') and (input_string[i] == input_string[i+1]) and (input_string[i+1] == input_string[i+2]):\n",
    "                DNA.append('CG')\n",
    "                break\n",
    "            elif (input_string[i]== '1') and (input_string[i] == input_string[i+1]):\n",
    "                DNA.append('CA') \n",
    "                i += 2\n",
    "            elif (input_string[i]== '1') and (input_string[i] != input_string[i+1]):\n",
    "                DNA.append('CT')\n",
    "                i+= 1\n",
    "            elif ((input_string[i] == input_string[i+1]) and (input_string[i+1] == input_string[i+2])):\n",
    "                DNA.append('G')\n",
    "                break\n",
    "            elif (input_string[i] == input_string[i+1]):\n",
    "                DNA.append('A')\n",
    "                i += 2\n",
    "            else:\n",
    "                DNA.append('T')\n",
    "                i+= 1\n",
    "        elif (len(input_string) -1-i == 1):\n",
    "            if(input_string[i]== '1') and (input_string[i] == input_string[i+1]):\n",
    "                DNA.append('CA')\n",
    "                break\n",
    "            elif (input_string[i]== '1') and (input_string[i] != input_string[i+1]):\n",
    "                DNA.append('CT')\n",
    "                i+= 1\n",
    "            elif (input_string[i] == input_string[i+1]):\n",
    "                DNA.append('A')\n",
    "                break\n",
    "            elif (input_string[i] != input_string[i+1]):\n",
    "                DNA.append('T')\n",
    "                i+= 1\n",
    "        elif (input_string[i] == '1'):\n",
    "            DNA.append('CT')\n",
    "            break\n",
    "        else:\n",
    "            DNA.append('T')\n",
    "            break\n",
    "        \n",
    "    return ''.join(string for string in DNA)"
   ]
  },
  {
   "cell_type": "code",
   "execution_count": 36,
   "metadata": {},
   "outputs": [],
   "source": [
    "# function to decode DNA to Binary string\n",
    "def DNAtoBinary(input_string):\n",
    "    i=0\n",
    "    Binary=[]\n",
    "    input_string = input_string.translate({ord(c): None for c in string.whitespace})   \n",
    "    while i in range(len(input_string)):\n",
    "        if (len(input_string) -i > 2):\n",
    "            if input_string[i] == 'C' and input_string[i+1] == 'C':\n",
    "                i+=1\n",
    "            elif input_string[i] == 'C' and input_string[i+1] == 'G':\n",
    "                Binary.append('111')\n",
    "                i+=2\n",
    "            elif input_string[i] == 'C' and input_string[i+1] == 'A':\n",
    "                Binary.append('11')\n",
    "                i+=2\n",
    "            elif input_string[i] == 'C' and input_string[i+1] == 'T':\n",
    "                Binary.append('1')\n",
    "                i+=2\n",
    "            elif input_string[i] == 'G':\n",
    "                Binary.append('000')\n",
    "                i+=1\n",
    "            elif input_string[i] == 'A':\n",
    "                Binary.append('00')\n",
    "                i+=1\n",
    "            elif input_string[i] == 'T':\n",
    "                Binary.append('0')\n",
    "                i+=1\n",
    "        elif (len(input_string) - i - 1 == 1):\n",
    "            if input_string[i] == 'C' and input_string[i+1] == 'C':\n",
    "                break\n",
    "            if input_string[i] == 'C' and input_string[i+1] == 'G':\n",
    "                Binary.append('111')\n",
    "                break\n",
    "            elif input_string[i] == 'C' and  input_string[i+1] == 'A':\n",
    "                Binary.append('11')\n",
    "                break\n",
    "            elif input_string[i] and input_string[i+1] == 'T':\n",
    "                Binary.append('1')\n",
    "                break\n",
    "            elif input_string[i] == 'G':\n",
    "                Binary.append('000')\n",
    "                i+=1\n",
    "            elif input_string[i] == 'A':\n",
    "                Binary.append('00')\n",
    "                i+=1\n",
    "            elif input_string[i] == 'T':\n",
    "                Binary.append('0')\n",
    "                i+=1\n",
    "        elif (len(input_string) - i - 1 == 0):\n",
    "            if input_string[i] == 'G':\n",
    "                Binary.append('000')\n",
    "                break\n",
    "            elif input_string[i] == 'A':\n",
    "                Binary.append('00')\n",
    "                break\n",
    "            elif input_string[i] == 'T':\n",
    "                Binary.append('0')\n",
    "                break\n",
    "            elif input_string[i] == 'C':\n",
    "                break\n",
    "    return ''.join(string for string in Binary)\n",
    "            "
   ]
  },
  {
   "cell_type": "code",
   "execution_count": 38,
   "metadata": {},
   "outputs": [
    {
     "name": "stdout",
     "output_type": "stream",
     "text": [
      "CPU times: user 1min 49s, sys: 1.63 s, total: 1min 50s\n",
      "Wall time: 1min 50s\n"
     ]
    }
   ],
   "source": [
    "%%time\n",
    "DNA = ''.join(choice(['A','T','G','C']) for i in range(100000000))\n",
    "result = DNAtoBinary(DNA)"
   ]
  },
  {
   "cell_type": "code",
   "execution_count": 9,
   "metadata": {},
   "outputs": [
    {
     "name": "stdout",
     "output_type": "stream",
     "text": [
      "They are matched!\n"
     ]
    }
   ],
   "source": [
    "# Textfile sample: Shakepeare fisrt paragraph of Sonnets: 639 bytes = 5112 bits\n",
    "shakepeare = \"From fairest creatures we desire increase,   That thereby beauty's rose might never die,   But as the riper should by time decease,   His tender heir might bear his memory:   But thou contracted to thine own bright eyes,   Feed'st thy light's flame with self-substantial fuel,   Making a famine where abundance lies,   Thy self thy foe, to thy sweet self too cruel:   Thou that art now the world's fresh ornament,   And only herald to the gaudy spring,   Within thine own bud buriest thy content,   And tender churl mak'st waste in niggarding:     Pity the world, or else this glutton be,     To eat the world's due, by the grave and thee.\"\n",
    "binary = StringtoBinary(shakepeare)\n",
    "DNA = BinarytoDNA(binary)\n",
    "binary2 = DNAtoBinary(DNA)\n",
    "# Checking if these two binary strings match\n",
    "\n",
    "Matching(binary,binary2)"
   ]
  },
  {
   "cell_type": "code",
   "execution_count": 39,
   "metadata": {},
   "outputs": [
    {
     "name": "stdout",
     "output_type": "stream",
     "text": [
      "They are matched!\n",
      "CPU times: user 6.08 s, sys: 61.6 ms, total: 6.14 s\n",
      "Wall time: 6.14 s\n"
     ]
    }
   ],
   "source": [
    "%%time\n",
    "# Audiofile Sample : 700kB mp3 audio file\n",
    "Audio = AudiotoBinary('Audiosample700KB.mp3')\n",
    "DNA2 = BinarytoDNA(Audio)\n",
    "Audio2 = DNAtoBinary(DNA2)\n",
    "Matching(Audio,Audio2)"
   ]
  },
  {
   "cell_type": "code",
   "execution_count": 22,
   "metadata": {},
   "outputs": [
    {
     "data": {
      "text/plain": [
       "5292189"
      ]
     },
     "execution_count": 22,
     "metadata": {},
     "output_type": "execute_result"
    }
   ],
   "source": [
    "len(DNA2)"
   ]
  },
  {
   "cell_type": "code",
   "execution_count": null,
   "metadata": {
    "scrolled": true
   },
   "outputs": [],
   "source": [
    "%%time\n",
    "# Testing decode\n",
    "DNAstrand = ''.join(choice(['A','T','G','C']) for i in range(100000))\n",
    "DNAtoBinary(DNAstrand)"
   ]
  },
  {
   "cell_type": "code",
   "execution_count": null,
   "metadata": {},
   "outputs": [],
   "source": [
    "\n",
    "# Calculate time complexity\n",
    "nts = [100,1000,10000,100000,200000,500000,1000000,2000000]\n",
    "time_exe = []\n",
    "for n in nts:\n",
    "    # time start\n",
    "    start=time.time()\n",
    "    DNAtoBinary(''.join(choice(['A','T','G','C']) for i in range(n)))\n",
    "    end=time.time()\n",
    "    time_exe.append(end-start)\n"
   ]
  },
  {
   "cell_type": "code",
   "execution_count": 27,
   "metadata": {},
   "outputs": [],
   "source": [
    "# Function to calculate time complexity with n number of nucleotides\n",
    "def timecomplexity(nts):\n",
    "    time_exe = []\n",
    "    for n in nts:\n",
    "        # time start\n",
    "        binary = ''.join(choice(['A','T','G','C']) for i in range(n))\n",
    "        start=time.process_time_ns()\n",
    "        # DNA to Binary with length of n bases\n",
    "        DNAtoBinary(binary)\n",
    "        #time end\n",
    "        end=time.process_time_ns()\n",
    "        time_exe.append(end-start)\n",
    "    return time_exe\n",
    "\n"
   ]
  },
  {
   "cell_type": "code",
   "execution_count": 47,
   "metadata": {},
   "outputs": [],
   "source": [
    "nts = [1,10,20,100,200,1000,2000,10000,20000,100000,200000,1000000,2000000,10000000,2000000]\n",
    "time_exe = timecomplexity(nts)\n"
   ]
  },
  {
   "cell_type": "code",
   "execution_count": 50,
   "metadata": {},
   "outputs": [
    {
     "data": {
      "text/plain": [
       "(1.0, 10000010.0)"
      ]
     },
     "execution_count": 50,
     "metadata": {},
     "output_type": "execute_result"
    },
    {
     "data": {
      "image/png": "[encoded data removed]",
      "text/plain": [
       "<Figure size 432x288 with 1 Axes>"
      ]
     },
     "metadata": {
      "needs_background": "light"
     },
     "output_type": "display_data"
    }
   ],
   "source": [
    "sns.scatterplot(x=nts,y=time_exe)\n",
    "plt.title('Time Complexity')\n",
    "plt.xlabel('Number of nucleotides')\n",
    "plt.ylabel('Time(ns)')"
   ]
  },
  {
   "cell_type": "code",
   "execution_count": null,
   "metadata": {
    "scrolled": false
   },
   "outputs": [],
   "source": []
  },
  {
   "cell_type": "code",
   "execution_count": null,
   "metadata": {},
   "outputs": [],
   "source": []
  }
 ],
 "metadata": {
  "kernelspec": {
   "display_name": "Python 3",
   "language": "python",
   "name": "python3"
  },
  "language_info": {
   "codemirror_mode": {
    "name": "ipython",
    "version": 3
   },
   "file_extension": ".py",
   "mimetype": "text/x-python",
   "name": "python",
   "nbconvert_exporter": "python",
   "pygments_lexer": "ipython3",
   "version": "3.8.3"
  }
 },
 "nbformat": 4,
 "nbformat_minor": 4
}
