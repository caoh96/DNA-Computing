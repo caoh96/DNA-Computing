{
 "cells": [
  {
   "cell_type": "code",
   "execution_count": 1,
   "metadata": {},
   "outputs": [],
   "source": [
    "import re"
   ]
  },
  {
   "cell_type": "markdown",
   "metadata": {},
   "source": [
    "# Problem 1\n",
    "#### Regions of a DNA genome thhat code for a protein have a relatively high ratio of CG content. Given a strand of DNA determine the percentage of cytosine guanine nucleotides present in the genome. Your method should return the percentage ( between 0.0 and 1.0) of 'c' (cytosine) and 'g'(guanine) in the genome.\n",
    "#### Contraints:\n",
    "- The String dna contain only the characters 'a','g','c','t' (lowercase)\n",
    "- The String dna is between 0 and 1000 characters long (inclusive)"
   ]
  },
  {
   "cell_type": "code",
   "execution_count": 2,
   "metadata": {},
   "outputs": [],
   "source": [
    "#1\n",
    "def DNAratio(input_string):\n",
    "    if not(re.match(\"^[atgc]*$\", input_string)):\n",
    "        print (\"Only letters a,t,g,c are allowed!\")\n",
    "        return\n",
    "    elif len(input_string) > 1000:\n",
    "        print (\"Only string between 0 and 1000(inclusive) is characters allowed!\")\n",
    "        return\n",
    "    else:\n",
    "        string_len = len(input_string)\n",
    "        num_gc = input_string.count('g') + input_string.count('c')\n",
    "        return 'GC Ratio in this DNA strand is:', (num_gc/string_len)\n",
    "    \n"
   ]
  },
  {
   "cell_type": "code",
   "execution_count": 3,
   "metadata": {},
   "outputs": [
    {
     "data": {
      "text/plain": [
       "('GC Ratio in this DNA strand is:', 0.6666666666666666)"
      ]
     },
     "execution_count": 3,
     "metadata": {},
     "output_type": "execute_result"
    }
   ],
   "source": [
    "DNAratio('atgccg')"
   ]
  },
  {
   "cell_type": "markdown",
   "metadata": {},
   "source": [
    "# Problem 2\n",
    "#### In a genome, adenine.and thymine are complements and cytosine and guanine are complements. Although this complementary is a chemical process, you will write code to produce a digital complement for a strand. For a given strand of DNA represented as a string, return the complement of the strand, also as a string.\n",
    "#### Constraints\n",
    "+ The string dna will contain at most 50 characters\n",
    "+ The characters of dna will be either 'a','g','t','c', all lowercase\n"
   ]
  },
  {
   "cell_type": "code",
   "execution_count": 4,
   "metadata": {},
   "outputs": [],
   "source": [
    "def DNAcomplement(input_string):\n",
    "    if not (re.match(\"^[atgc]*$\",input_string)):\n",
    "        print(\"Only 'a',t','g','c' characters are allowed!\")\n",
    "        return\n",
    "    elif len(input_string) > 50:\n",
    "        print(\"Only the strings with length between 0 and 50(inclusive) are allowed!\")\n",
    "        return\n",
    "    else:\n",
    "        complement_string = []\n",
    "        for i in input_string:\n",
    "            if   i == 'a':\n",
    "                complement_string+= 't'\n",
    "            elif i == 't':\n",
    "                complement_string+='a'\n",
    "            elif i == 'g':\n",
    "                complement_string+='c'\n",
    "            elif i == 'c':\n",
    "                complement_string+='g'\n",
    "        return ''.join(string for string in complement_string)"
   ]
  },
  {
   "cell_type": "code",
   "execution_count": 5,
   "metadata": {},
   "outputs": [
    {
     "data": {
      "text/plain": [
       "'taaacccggg'"
      ]
     },
     "execution_count": 5,
     "metadata": {},
     "output_type": "execute_result"
    }
   ],
   "source": [
    "DNAcomplement('atttgggccc')"
   ]
  },
  {
   "cell_type": "markdown",
   "metadata": {},
   "source": [
    "# Problem 3\n",
    "#### Print reverse of a DNA strand \n",
    "#### Contraints:\n",
    "+ The String DNA contain at most 50 characters\n",
    "+ The characters of DNA will be one of 'a','g','t','c' all lower-case\n"
   ]
  },
  {
   "cell_type": "code",
   "execution_count": 10,
   "metadata": {},
   "outputs": [],
   "source": [
    "def DNAreverse(input_string):\n",
    "    if not(re.match(\"^[atgc]*$\",input_string)):\n",
    "        print(\"Only 'a','t','g','c' characters are allowed!\")\n",
    "        return\n",
    "    elif len(input_string) > 50:\n",
    "        print(\"Only the strings with length between 0 and 50(inclusive) are allowed!\")\n",
    "    else:\n",
    "        return input_string[::-1]"
   ]
  },
  {
   "cell_type": "code",
   "execution_count": 12,
   "metadata": {},
   "outputs": [
    {
     "name": "stdout",
     "output_type": "stream",
     "text": [
      "Only the strings with length between 0 and 50(inclusive) are allowed\n"
     ]
    }
   ],
   "source": [
    "DNAreverse('atgac')"
   ]
  },
  {
   "cell_type": "markdown",
   "metadata": {},
   "source": [
    "# Problem 4\n",
    "#### Given a DNA strand determine the number of nucleotides/base-pairs in the first protein reading from left-to-right (assume this is 5' to 3'). The beginning of a protein is signalled by the start codon. ATG(not considered part of the protein) and the end of the protein is signalled by a stop codon, one of TAA, TAG, or TGA (also not part of the protein).\n",
    "#### Constraints\n",
    "+ The string DNA contains only the characters 'A','T','G','C' (uppercase)\n",
    "+ The string DNA is between 0 and 1000 characters long(inclusive)"
   ]
  },
  {
   "cell_type": "code",
   "execution_count": 161,
   "metadata": {},
   "outputs": [],
   "source": [
    "def DNAnucleotides(input_string):\n",
    "    start_str = 'ATG'\n",
    "    end_str = ['TAA','TAG','TGA']\n",
    "    ind = []\n",
    "    count = 0\n",
    "    if not (re.match(\"^[ATGC]*$\",input_string)):\n",
    "        print(\"Only 'A','T','G','C' characters are allowed in the string\")\n",
    "        return\n",
    "    elif len(input_string) > 1000:\n",
    "        print(\"Only the strings with length between 0 and 1000 characters long are allowed!\")\n",
    "        return\n",
    "    elif(start_str in input_string): \n",
    "        #index in input_string for index in end_str)):\n",
    "        for index in end_str:\n",
    "            if index in input_string:\n",
    "                ind.append(input_string.find(index))\n",
    "        #print(ind)\n",
    "        start_index = input_string.find(start_str)\n",
    "        #print(start_index)\n",
    "        end_index = min(ind)\n",
    "        #print(end_index)\n",
    "        i=start_index+1\n",
    "        if (end_index-start_index==1):\n",
    "            print('There is no protein, but there is start and stop codon!')\n",
    "            return -1\n",
    "        while(i>start_index and (i <= end_index)):\n",
    "            if (i==end_index):\n",
    "                return count-2\n",
    "            count+=1;i+=1\n",
    "        return -1\n",
    "        \n",
    "          \n",
    "        "
   ]
  },
  {
   "cell_type": "code",
   "execution_count": 162,
   "metadata": {},
   "outputs": [
    {
     "data": {
      "text/plain": [
       "-1"
      ]
     },
     "execution_count": 162,
     "metadata": {},
     "output_type": "execute_result"
    }
   ],
   "source": [
    "DNAnucleotides('CGATGAAATAGTAATGA')"
   ]
  },
  {
   "cell_type": "markdown",
   "metadata": {},
   "source": [
    "# Problem 5\n",
    "#### Given a binary string, we encode it into a DNA strands with four bases A,T,G,C where each base represents each change of state: C=X, T=XX, A=XXX, and G=XXXX. For example, binary string 0110001111 will become a DNA strand of CTAG. \n",
    "#### Constraints:\n",
    "+ The string DNA contains only the characters 'A','T','G','C' (uppercase)\n",
    "+ The string DNA is between 0 and 1000 characters long(inclusive)\n"
   ]
  },
  {
   "cell_type": "markdown",
   "metadata": {},
   "source": [
    "# Problem 6\n",
    "#### From the DNA strand calculated in problem 5 , how can we go back to equilvalent binary string 0110001111?\n"
   ]
  },
  {
   "cell_type": "markdown",
   "metadata": {},
   "source": [
    "# Problem 7\n",
    "#### From the DNA strand calculated in problem 5, how can we calculate its reverse complement DNA strand? For example, if our given DNA strand is ATGTCA, the reverse complement strand will be TGACAT"
   ]
  }
 ],
 "metadata": {
  "kernelspec": {
   "display_name": "Python 3",
   "language": "python",
   "name": "python3"
  },
  "language_info": {
   "codemirror_mode": {
    "name": "ipython",
    "version": 3
   },
   "file_extension": ".py",
   "mimetype": "text/x-python",
   "name": "python",
   "nbconvert_exporter": "python",
   "pygments_lexer": "ipython3",
   "version": "3.8.3"
  }
 },
 "nbformat": 4,
 "nbformat_minor": 4
}
